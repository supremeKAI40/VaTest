{
 "cells": [
  {
   "cell_type": "markdown",
   "id": "c9a2c381",
   "metadata": {},
   "source": [
    "# Importing Libraries"
   ]
  },
  {
   "cell_type": "code",
   "execution_count": 1,
   "id": "2540be09",
   "metadata": {},
   "outputs": [
    {
     "name": "stderr",
     "output_type": "stream",
     "text": [
      "C:\\Users\\computer\\anaconda3\\lib\\site-packages\\autograd\\numpy\\numpy_wrapper.py:20: DeprecationWarning: `np.int` is a deprecated alias for the builtin `int`. To silence this warning, use `int` by itself. Doing this will not modify any behavior and is safe. When replacing `np.int`, you may wish to use e.g. `np.int64` or `np.int32` to specify the precision. If you wish to review your current use, check the release note link for additional information.\n",
      "Deprecated in NumPy 1.20; for more details and guidance: https://numpy.org/devdocs/release/1.20.0-notes.html#deprecations\n",
      "  int_types = {_np.int, _np.int8, _np.int16, _np.int32, _np.int64, _np.integer}\n"
     ]
    },
    {
     "name": "stdout",
     "output_type": "stream",
     "text": [
      "problem: Could not find module 'libmultinest.dll' (or one of its dependencies). Try using the full path with constructor syntax.\n"
     ]
    }
   ],
   "source": [
    "import juliet\n",
    "import os\n",
    "import sys\n",
    "\n",
    "from sympy import *\n",
    "from numpy import *\n",
    "from tabulate import tabulate\n",
    "from colorama import*\n",
    "from matplotlib.offsetbox import*\n",
    "\n",
    "import numpy as np\n",
    "import pandas as pd\n",
    "import matplotlib.pyplot as plt\n",
    "\n",
    "font1 = {'family':'serif','color':'black'}"
   ]
  },
  {
   "cell_type": "markdown",
   "id": "7ed08ae4",
   "metadata": {},
   "source": [
    "# Define Priors"
   ]
  },
  {
   "cell_type": "code",
   "execution_count": 2,
   "id": "8a7dc469",
   "metadata": {},
   "outputs": [],
   "source": [
    "# Name of Target Star\n",
    "# Leave one space between TOI and ID i.e., TOI 1148\n",
    "Target_Star = 'TOI 2443'\n",
    "\n",
    "# -------------------------------------------------\n",
    "# Some User inputs !!\n",
    "# [value, uncertainty]\n",
    "# -------------------------------------------------\n",
    "magnitude, mag_err = [8.2969, 0.006]                \n",
    "mass_of_the_host_star_in_solar_masses, m_err = [0.66, 0.0789265] \n",
    "radius_of_the_host_star_in_solar_radius, r_err = [0.732115, 0.0713468]\n",
    "temperature_of_the_host_star, t_err = [4357, 100]\n",
    "luminosity, l_err = [0.1523396, 0.01097705]\n",
    "# -------------------------------------------------\n",
    "# Normal Distribution: [mean value, deviation]\n",
    "# Uniform Distribution: [minimum value, maximum value]\n",
    "# -------------------------------------------------\n",
    "Period, Period_Deviation = [15.6692, 0.1]         # Normal Distribution\n",
    "Time, Time_Deviation = [2457000 + 2148.098617, 0.1]   # Normal Distribution\n",
    "a_lower, a_upper = [1, 100]                 # Uniform distribution\n",
    "# -------------------------------------------------\n",
    "\n",
    "filename = 'Detrended & Combined Lightcurves/Combined TOI '+Target_Star[4:]+'.fits' # Transit Data File\n",
    "output_folder = 'TOI_'+Target_Star[4:]+'_Global_Fit'                                # Folder in which Results will be saved\n",
    "\n",
    "# ---------------------------------------------------------------------------------------------------------\n",
    "# Priors for different Parameters \n",
    "# ---------------------------------------------------------------------------------------------------------\n",
    "\n",
    "# r1 & r2 are Parametrization of Espinoza (2018) for Rp/Rs and Impact Parameter\n",
    "# uniform distribution : Suggested to fit in between [0, 1]\n",
    "\n",
    "# q1 & q2 are LD Parametrization of Kipping for two parameter LD Laws except logarithmic Law \n",
    "# uniform distribution : Suggested to fit in between [0, 1]\n",
    "\n",
    "# Eccentricity & Argument of Periastron are fixed. ecc = 0 & omega = 90\n",
    "\n",
    "# ---------------------------------------------------------------------------------------------------------\n",
    "\n",
    "# Define the master prior dictionary. First define the TRANSIT priors\n",
    "priors = {}\n",
    "\n",
    "# Name of the parameters to be fit:\n",
    "params = ['P_p1', 't0_p1', 'r1_p1', 'r2_p1', 'q1_TESS', 'q2_TESS', 'a_p1', 'mdilution_TESS', 'mflux_TESS', 'sigma_w_TESS', \\\n",
    "          'ecc_p1', 'omega_p1']\n",
    "\n",
    "# Distribution for each of the parameters:\n",
    "dists = ['normal', 'normal', 'uniform', 'uniform', 'uniform', 'uniform', 'uniform', 'fixed', 'normal', 'loguniform', \\\n",
    "         'fixed', 'fixed']\n",
    "\n",
    "\n",
    "hyperps = [[Period, Period_Deviation], [Time, Time_Deviation], [0, 1], [0, 1], [0, 1], [0, 1],\\\n",
    "           [a_lower, a_upper], 1.0, [0,0.1], [0.1, 1000], 0, 90]\n",
    "\n",
    "# Populate the priors dictionary:\n",
    "for param, dist, hyperp in zip(params, dists, hyperps):\n",
    "    priors[param] = {}\n",
    "    priors[param]['distribution'], priors[param]['hyperparameters'] = dist, hyperp"
   ]
  },
  {
   "cell_type": "markdown",
   "id": "c733c9e8",
   "metadata": {},
   "source": [
    "# Data Fitting (Transit)"
   ]
  },
  {
   "cell_type": "code",
   "execution_count": 3,
   "id": "e11d842a",
   "metadata": {},
   "outputs": [
    {
     "name": "stderr",
     "output_type": "stream",
     "text": [
      "19498it [40:26,  8.03it/s, +500 | bound: 282 | nc: 1 | ncall: 471916 | eff(%):  4.238 | loglstar:   -inf < 99313.450 <    inf | logz: 99275.063 +/-  0.393 | dlogz:  0.001 >  0.509]\n"
     ]
    }
   ],
   "source": [
    "# First get TESS photometric data\n",
    "t, f, ferr = juliet.get_TESS_data(filename)\n",
    "\n",
    "# Put data in dictionaries, add 2457000 to the times to convert from TESS JD to JD:\n",
    "times, fluxes, fluxes_error = {}, {}, {}\n",
    "times['TESS'], fluxes['TESS'], fluxes_error['TESS'] = t + 2457000, f, ferr\n",
    "\n",
    "# RV data is given in a file, so let's just pass the filename to juliet and load the dataset:\n",
    "dataset = juliet.load(priors = priors, t_lc = times, y_lc = fluxes, \\\n",
    "                      yerr_lc = fluxes_error, out_folder = output_folder)\n",
    "\n",
    "# And now let's fit it!\n",
    "results = dataset.fit(sampler = 'dynesty', n_live_points = 500, nwalkers = 100000, nsteps = 300000, nburnin = 500000, \\\n",
    "                      emcee_factor = 0.0001, ecclim = 1.0, pl = 0.0, pu = 1.0, ta = 2457000.0, \\\n",
    "                      nthreads = None, dynamic = True, \\\n",
    "                      dynesty_bound = 'multi', dynesty_sample = 'rwalk', dynesty_nthreads = None, \\\n",
    "                      dynesty_n_effective = np.inf, dynesty_use_stop = True, dynesty_use_pool = None)"
   ]
  },
  {
   "cell_type": "markdown",
   "id": "a778c5ab",
   "metadata": {},
   "source": [
    "# Transit Lightcurve"
   ]
  },
  {
   "cell_type": "markdown",
   "id": "4839c0db",
   "metadata": {},
   "source": [
    "### 1. Evaluating the Model"
   ]
  },
  {
   "cell_type": "code",
   "execution_count": 4,
   "id": "e94dafc9",
   "metadata": {},
   "outputs": [],
   "source": [
    "transit_model = results.lc.evaluate('TESS') # Evaluating the model\n",
    "\n",
    "# ------------------------------------------------------------------------------------------\n",
    "# Extract period and time of transit center for the planet\n",
    "# ------------------------------------------------------------------------------------------\n",
    "P, t0 = np.median(results.posteriors['posterior_samples']['P_p1']),\\\n",
    "        np.median(results.posteriors['posterior_samples']['t0_p1'])\n",
    "\n",
    "# ------------------------------------------------------------------------------------------\n",
    "# Define plot, get phases, plot data and best-fit model\n",
    "# ------------------------------------------------------------------------------------------\n",
    "phases0 = juliet.get_phases(dataset.times_lc['TESS'], P, t0) \n",
    "idx0 = np.argsort(phases0)\n",
    "\n",
    "# Data binning\n",
    "p_bin, y_bin, yerr_bin = juliet.bin_data(phases0[idx0], dataset.data_lc['TESS'][idx0], 100) \n",
    "p_bin1, y_bin1, yerr_bin1 = juliet.bin_data(phases0[idx0], dataset.data_lc['TESS'][idx0] - transit_model[idx0], 100) "
   ]
  },
  {
   "cell_type": "markdown",
   "id": "6c838055",
   "metadata": {},
   "source": [
    "### 2. Plotting the Model & Data"
   ]
  },
  {
   "cell_type": "code",
   "execution_count": 8,
   "id": "0c6a7eea",
   "metadata": {},
   "outputs": [
    {
     "data": {
      "image/png": "[encoded data removed]",
      "text/plain": [
       "<Figure size 504x504 with 2 Axes>"
      ]
     },
     "metadata": {
      "needs_background": "light"
     },
     "output_type": "display_data"
    }
   ],
   "source": [
    "# ------------------------------------------------------------------------------------------\n",
    "# Plotting the Graph\n",
    "f, (f1, f2) = plt.subplots(2,1, gridspec_kw={'height_ratios': [5,2]})\n",
    "f.set_size_inches(7,7)\n",
    "# ------------------------------------------------------------------------------------------\n",
    "\n",
    "f1.errorbar(phases0, dataset.data_lc['TESS'], yerr= dataset.errors_lc['TESS'],\\\n",
    "             fmt='ko', mfc = 'white',markersize=5, alpha = 0.17, zorder = 1, label = \"Data\") # Plot whole data set in background\n",
    "f1.plot(phases0[idx0],transit_model[idx0], color='b', lw = 3, zorder = 2, label = \"Model\")   # Plot the model \n",
    "f1.errorbar(p_bin, y_bin, yerr = yerr_bin, fmt='ro', mfc = 'white',markersize=7, zorder = 3) # Plot the binned data for reference\n",
    "\n",
    "f1.set_title('Log-evidence: {0:.5f} $\\pm$ {1:.5f}'.format(results.posteriors['lnZ'],results.posteriors['lnZerr']))\n",
    "f1.set_ylabel('Normalized Flux',fontdict=font1, weight = \"bold\",fontsize=\"15\")\n",
    "f1.legend(title = Target_Star, loc = \"lower right\", fontsize = 15, title_fontsize = 15)\n",
    "\n",
    "f1.set_xticks([])\n",
    "plt.yticks(fontsize = 15)\n",
    "\n",
    "f1.set_xlim([-0.02, 0.02])\n",
    "#f1.set_ylim([0.950, 1.035])\n",
    "\n",
    "# ---------------------------------------------------------------------------------------------\n",
    "# Residual Plot\n",
    "# ---------------------------------------------------------------------------------------------\n",
    "\n",
    "f2.errorbar(phases0, transit_model - dataset.data_lc['TESS'], yerr= dataset.errors_lc['TESS'],\\\n",
    "             fmt='ko', mfc = 'white',markersize=5, alpha = 0.17, zorder = 1)\n",
    "\n",
    "f2.plot(phases0, np.zeros(np.size(phases0)), color='b', lw = 3, zorder = 2)\n",
    "\n",
    "f2.errorbar(p_bin1, y_bin1, yerr = yerr_bin1, fmt='ro', mfc = 'white',markersize=7, zorder = 3)\n",
    "\n",
    "f2.set_xlabel('Phase',fontdict=font1, weight = \"bold\",fontsize=\"15\")\n",
    "f2.set_ylabel('O - C (Flux)',fontdict=font1, weight = \"bold\",fontsize=\"15\")\n",
    "\n",
    "plt.xticks(fontsize = 15)\n",
    "plt.yticks(fontsize = 15)\n",
    "\n",
    "f2.set_xlim([-0.02, 0.02])\n",
    "#f2.set_ylim([-0.003, 0.003])\n",
    "\n",
    "# Save figure to output folder\n",
    "f.savefig(os.path.join(output_folder, 'TOI_'+Target_Star[4:]+'_Transit.jpeg'), format='jpeg', dpi=600, bbox_inches = 'tight')"
   ]
  },
  {
   "cell_type": "markdown",
   "id": "0d3925c5",
   "metadata": {},
   "source": [
    "# Output File"
   ]
  },
  {
   "cell_type": "code",
   "execution_count": 6,
   "id": "890a7746",
   "metadata": {},
   "outputs": [],
   "source": [
    "# Different Paths to save the processed data\n",
    "\n",
    "dat_file = 'TOI_'+Target_Star[4:]+'_Global_Fit/posteriors.dat'\n",
    "parafile = 'TOI_'+Target_Star[4:]+'_Global_Fit/Parameters.txt'\n",
    "latexfile = 'TOI_'+Target_Star[4:]+'_Global_Fit/Latex_TOI_'+Target_Star[4:]+'.tex'\n",
    "\n",
    "dat_excel = pd.read_table(dat_file)\n",
    "my_xlsx = dat_excel.to_excel('TOI_'+Target_Star[4:]+'_Global_Fit/Parameters.xlsx')\n",
    "\n",
    "op_data = pd.read_excel('TOI_'+Target_Star[4:]+'_Global_Fit/Parameters.xlsx')\n",
    "\n",
    "median_val = op_data[op_data.columns.values[3]]\n",
    "upper_err = op_data[op_data.columns.values[5]]\n",
    "lower_err = op_data[op_data.columns.values[7]]"
   ]
  },
  {
   "cell_type": "code",
   "execution_count": 7,
   "id": "8813f4a4",
   "metadata": {},
   "outputs": [
    {
     "name": "stdout",
     "output_type": "stream",
     "text": [
      "# Parameter Name     \t \t Median       \t \t Upper 68 CI  \t \t Lower 68 CI \n",
      "P_p1               \t \t 15.6692133587 \t \t 0.0014575977 \t \t 0.0014028743\n",
      "t0_p1              \t \t 2459148.0989498729 \t \t 0.0011354871 \t \t 0.0011209212\n",
      "r1_p1              \t \t 0.5329117897 \t \t 0.1233568375 \t \t 0.1239747791\n",
      "r2_p1              \t \t 0.0347320061 \t \t 0.0006719847 \t \t 0.0006354414\n",
      "p_p1               \t \t 0.0347320061 \t \t 0.0006719847 \t \t 0.0006354414\n",
      "b_p1               \t \t 0.2993676846 \t \t 0.1850352563 \t \t 0.1859621687\n",
      "inc_p1             \t \t 89.3452105365 \t \t 0.4150843343 \t \t 0.5016076659\n",
      "q1_TESS            \t \t 0.1551015602 \t \t 0.1734662135 \t \t 0.0822596513\n",
      "q2_TESS            \t \t 0.3836435710 \t \t 0.3609196971 \t \t 0.2654705671\n",
      "a_p1               \t \t 26.1509598492 \t \t 1.0381255512 \t \t 2.1535529389\n",
      "mflux_TESS         \t \t -0.0000126269 \t \t 0.0000041007 \t \t 0.0000039110\n",
      "sigma_w_TESS       \t \t 312.1708390335 \t \t 4.7425251752 \t \t 4.7156707972\n",
      "\n"
     ]
    }
   ],
   "source": [
    "with open(dat_file, 'r') as file:\n",
    "    text = file.read()\n",
    "    print(text)"
   ]
  },
  {
   "cell_type": "markdown",
   "id": "34514a6a",
   "metadata": {},
   "source": [
    "# Calculation of Planetary Parameters"
   ]
  },
  {
   "cell_type": "markdown",
   "id": "301ae868",
   "metadata": {},
   "source": [
    "## 1. Constants & Conversions"
   ]
  },
  {
   "cell_type": "code",
   "execution_count": 9,
   "id": "2a309d32",
   "metadata": {},
   "outputs": [],
   "source": [
    "# ----------------------------------------------------------------------------------------------\n",
    "# Define Constants\n",
    "# ----------------------------------------------------------------------------------------------\n",
    "\n",
    "PI = np.pi                 # pi\n",
    "G = 6.67*10**(-11)         # Gravitational Constant\n",
    "AU = 1.496*10**(11)        # Astronomical Unit\n",
    "M_S = 1.989*10**(30)       # Solar Mass\n",
    "M_J = 1.898*10**(27)       # Jupiter Mass\n",
    "M_E = 5.97219*10**(24)     # Earth Mass\n",
    "\n",
    "R_S = 6.9634*10**(8)       # Solar Radius\n",
    "R_J = 6.9911*10**(7)       # Jupiter Radius\n",
    "R_E = 6371000              # Earth Radius\n",
    " \n",
    "\n",
    "# Conversions\n",
    "d2s = 24*3600              # Days to Seconds (for orbital period)\n",
    "d2r = PI/180               # Degree to Radian (for inclination angle and Argument of Periastron)\n",
    "rjtore = R_J/R_E           # Convert Jupiter Radius to Earth Radius\n",
    "jmtoem = M_J/M_E           # Convert Jupiter mass to Earth mass"
   ]
  },
  {
   "cell_type": "markdown",
   "id": "ab5de1c7",
   "metadata": {},
   "source": [
    "## 2. Planetary Parameters obtained from the Juliet Run"
   ]
  },
  {
   "cell_type": "code",
   "execution_count": 10,
   "id": "02ba9843",
   "metadata": {},
   "outputs": [],
   "source": [
    "m1 = mass_of_the_host_star_in_solar_masses*M_S\n",
    "r1 = radius_of_the_host_star_in_solar_radius*R_S\n",
    "T1 = temperature_of_the_host_star\n",
    "\n",
    "\n",
    "P, Pu, Pl = [median_val[0]*d2s, upper_err[0]*d2s, lower_err[0]*d2s]                # Orbital Period\n",
    "\n",
    "ars, arsu, arsl = [median_val[9], upper_err[9], lower_err[9]]                      # Orbital Semi-major Axis\n",
    "\n",
    "t0, t0u, t0l = [median_val[1], upper_err[1], lower_err[1]]                         # Epoch Time\n",
    "\n",
    "rprs, rprsu, rprsl = [median_val[4], upper_err[4], lower_err[4]]                   # Fractional Radius\n",
    "\n",
    "b, bu, bl = [median_val[5], upper_err[5], lower_err[5]]                            # Impact Parameter\n",
    "\n",
    "i, iu, il = [median_val[6]*d2r, upper_err[6]*d2r, lower_err[6]*d2r]                # Inclination Angle\n",
    "\n",
    "#ecc, eccu, eccl = [median_val[14], upper_err[14], lower_err[14]]                   # Eccentricity\n",
    "\n",
    "#omega, omegau, omegal = [median_val[15]*d2r, upper_err[15]*d2r, lower_err[15]*d2r] # Argument of Periastron"
   ]
  },
  {
   "cell_type": "markdown",
   "id": "c56e999f",
   "metadata": {},
   "source": [
    "## 3. Calculation of rest of the parameters"
   ]
  },
  {
   "cell_type": "code",
   "execution_count": 11,
   "id": "87d9871d",
   "metadata": {},
   "outputs": [],
   "source": [
    "# Transit Depth\n",
    "delta = rprs**2\n",
    "deltau = (rprs + rprsu)**2 - delta\n",
    "deltal = delta - (rprs - rprsl)**2 \n",
    "\n",
    "\n",
    "# Radius\n",
    "Rp = rprs*r1\n",
    "Rpu = (rprs + rprsu)*r1 - Rp\n",
    "Rpl = Rp - (rprs - rprsl)*r1 \n",
    "\n",
    "\n",
    "# Semi-major Axis\n",
    "a = ars*r1\n",
    "au = (ars + arsu)*r1 - a\n",
    "al = a - (ars - arsl)*r1\n",
    "\n",
    "\n",
    "# Equilibrium Temperature\n",
    "Teq = T1*sqrt(r1/(2*a))\n",
    "Tequ = T1*sqrt(r1/(2*(a - al))) - Teq\n",
    "Teql = Teq - T1*sqrt(r1/(2*(a + au)))\n",
    "\n",
    "\n",
    "# Transit Duration\n",
    "Td = (P/PI)*np.arcsin(np.sqrt(1 + rprs - b**2)/(np.sqrt(1 - (np.cos(i))**2)*ars))\n",
    "Tdu = ((P - Pl)/PI)*np.arcsin(np.sqrt(1 + rprs - rprsl - (b - bl)**2)/(np.sqrt(1 - (np.cos(i - il))**2)*(ars - arsl))) - Td\n",
    "Tdl = Td - ((P + Pu)/PI)*np.arcsin(np.sqrt(1 + rprs + rprsu - (b + bu)**2)/(np.sqrt(1 - (np.cos(i + iu))**2)*(ars + arsu)))\n",
    "\n",
    "\n",
    "# Insolation Flux\n",
    "S = luminosity*(AU/a)**2\n",
    "Su = (luminosity+l_err)*(AU/(a-al))**2 - S\n",
    "Sl = S - (luminosity-l_err)*(AU/(a+au))**2"
   ]
  },
  {
   "cell_type": "markdown",
   "id": "408ccb0b",
   "metadata": {},
   "source": [
    "## 4. Limb Darkening Parameters"
   ]
  },
  {
   "cell_type": "code",
   "execution_count": 12,
   "id": "4bce2d08",
   "metadata": {},
   "outputs": [],
   "source": [
    "# Limb Darkening Parameters\n",
    "\n",
    "# Store posterior samples for q1 and q2:\n",
    "q1, q2 = results.posteriors['posterior_samples']['q1_TESS'],\\\n",
    "results.posteriors['posterior_samples']['q2_TESS']\n",
    "# Transform back to (u1,u2):\n",
    "u1, u2 = juliet.utils.reverse_ld_coeffs('quadratic', q1, q2)\n",
    "\n",
    "# Plot medians and errors implied by the posterior:\n",
    "u1m,u1u,u1l = juliet.utils.get_quantiles(u1)\n",
    "u2m,u2u,u2l = juliet.utils.get_quantiles(u2)"
   ]
  },
  {
   "cell_type": "markdown",
   "id": "5b67ab49",
   "metadata": {},
   "source": [
    "# List of the Calculated Parameters"
   ]
  },
  {
   "cell_type": "code",
   "execution_count": 13,
   "id": "2504d52e",
   "metadata": {},
   "outputs": [
    {
     "name": "stdout",
     "output_type": "stream",
     "text": [
      " Parameters          Description (Unit)                 Median          Upper 68 CI    Lower 68 CI\n",
      "------------  ---------------------------------  --------------------  -------------  -------------\n",
      "     P                  Period (days)             15.669213358700002     0.0014576     0.00140287\n",
      "    R_P            Radius (Jupiter Radius)       0.25327073023196706    0.00490021     0.00463373\n",
      "    R_P             Radius (Earth Radius)         2.7792199060189997     0.0537715      0.0508474\n",
      "    T_C               Epoch Time (BJD)            2459148.098949873     0.00113549     0.00112092\n",
      "   T_dur           Transit Duration (days)       0.18547251142436125     0.0246507      0.0212715\n",
      "     a              Semi-major Axis (AU)          0.0891162059659609    0.00353768     0.00733879\n",
      "     i              Inclination (Degrees)           89.3452105365        0.415084       0.501608\n",
      "     e                  Eccentricity                  0 (Fixed)\n",
      "     w        Argument of Periastron (Degrees)        90 (Fixed)\n",
      "   T_eqq         Equilibrium Temperature (K)       602.460732014798       26.452         11.6134\n",
      "     S                Insolation (S_E)            19.182245008587074      5.23877        2.71553\n",
      "  R_p/R_s     Radius of planet in stellar radii      0.0347320061       0.000671985    0.000635441\n",
      "   a/R_s      Semi-major axis in stellar radii      26.1509598492         1.03813        2.15355\n",
      "   Delta          Transit Depth (Fraction)       0.001206312247730437   4.71303e-05    4.37365e-05\n",
      "     b                Impact Parameter               0.2993676846        0.185035       0.185962\n",
      "     u1           Limb Darkening Parameter        0.2916133752608389     0.201134       0.182354\n",
      "     u2           Limb Darkening Parameter       0.09069825664364294     0.295956       0.234482\n",
      "\n"
     ]
    }
   ],
   "source": [
    "mydata = [[\"P\", \"Period (days)\", P/d2s, Pu/d2s, Pl/d2s],\\\n",
    "          [\"R_P\", \"Radius (Jupiter Radius)\", Rp/R_J, Rpu/R_J, Rpl/R_J], \\\n",
    "          [\"R_P\", \"Radius (Earth Radius)\", Rp/R_E, Rpu/R_E, Rpl/R_E], \\\n",
    "          [\"T_C\",\"Epoch Time (BJD)\", t0, t0u, t0l], \\\n",
    "          [\"T_dur\", \"Transit Duration (days)\", Td/(3600*24), Tdu/(3600*24), Tdl/(3600*24)], \\\n",
    "          [\"a\",\"Semi-major Axis (AU)\", a/AU, au/AU, al/AU], \\\n",
    "          [\"i\", \"Inclination (Degrees)\", i*180/PI, iu*180/PI, il*180/PI], \\\n",
    "          [\"e\", \"Eccentricity\", \"0 (Fixed)\"], \\\n",
    "          [\"w\", \"Argument of Periastron (Degrees)\", \"90 (Fixed)\"], \\\n",
    "          [\"T_eqq\", \"Equilibrium Temperature (K)\", Teq, Tequ, Teql], \\\n",
    "          [\"S\", \"Insolation (S_E)\", S, Su, Sl], \\\n",
    "          [\"R_p/R_s\", \"Radius of planet in stellar radii\", rprs, rprsu, rprsl], \\\n",
    "          [\"a/R_s\", \"Semi-major axis in stellar radii\", ars, arsu, arsl], \\\n",
    "          [\"Delta\", \"Transit Depth (Fraction)\", delta, deltau, deltal], \\\n",
    "          [\"b\", \"Impact Parameter\",b ,bu , bl], \\\n",
    "          [\"u1\", \"Limb Darkening Parameter\", u1m, u1u-u1m, u1m-u1l], \\\n",
    "          [\"u2\", \"Limb Darkening Parameter\", u2m, u2u-u2m, u2m-u2l]\n",
    "         ]\n",
    "\n",
    "\n",
    "with open(parafile, \"w\") as f:\n",
    "    print(tabulate(mydata,headers = [\"Parameters\", \"Description (Unit)\", \"Median\", \"Upper 68 CI\", \"Lower 68 CI\"], \\\n",
    "                                    tablefmt=\"simple\", numalign = \"center\", stralign = \"center\"), file=f)\n",
    "\n",
    "with open(parafile, \"r\") as para:\n",
    "    print(para.read())"
   ]
  },
  {
   "cell_type": "markdown",
   "id": "679c508d",
   "metadata": {},
   "source": [
    "# Visualization of Planetary System"
   ]
  },
  {
   "cell_type": "code",
   "execution_count": 14,
   "id": "4d3b14b5",
   "metadata": {},
   "outputs": [
    {
     "data": {
      "image/png": "[encoded data removed]",
      "text/plain": [
       "<Figure size 504x504 with 1 Axes>"
      ]
     },
     "metadata": {},
     "output_type": "display_data"
    }
   ],
   "source": [
    "theta = np.linspace(0,2*PI,1000)\n",
    "target_star_radii = radius_of_the_host_star_in_solar_radius\n",
    "planet_radii = Rp/R_S\n",
    "temp = temperature_of_the_host_star\n",
    "\n",
    "if i*180/PI >90:\n",
    "    b = -b\n",
    "\n",
    "x = target_star_radii*np.sin(theta)\n",
    "y = target_star_radii*np.cos(theta)\n",
    "\n",
    "x1 = planet_radii*np.sin(theta)\n",
    "y1 = planet_radii*np.cos(theta) - b*target_star_radii\n",
    "\n",
    "xline = np.linspace(-(max(x)+0.1),(max(x)+0.1),100)\n",
    "yline = -b*target_star_radii*np.ones(np.size(xline))\n",
    "\n",
    "\n",
    "if temp > 30000:\n",
    "    col = 'paleturquoise'\n",
    "elif (temp > 10000) & (temp <= 30000):\n",
    "    col = 'azure'\n",
    "elif (temp > 7500) & (temp <= 10000):\n",
    "    col = 'white'\n",
    "elif (temp > 6000) & (temp <= 7500):\n",
    "    col = 'lightyellow'\n",
    "elif (temp > 5200) & (temp <= 6000):\n",
    "    col = 'yellow'\n",
    "elif (temp > 3700) & (temp <= 5200):\n",
    "    col = 'coral'\n",
    "elif (temp > 2400) & (temp <= 3700):\n",
    "    col = 'tomato'\n",
    "else:\n",
    "    col = 'red'\n",
    "    \n",
    "    \n",
    "plt.fill(x,y, zorder = 1, c = col)\n",
    "plt.fill(x1,y1, zorder = 3, c = 'b')\n",
    "plt.plot(xline,yline, zorder = 2, c = 'green')\n",
    "\n",
    "plt.axis('equal')\n",
    "\n",
    "plt.gca().set_facecolor('k')\n",
    "plt.tick_params(left = False, right = False, labelleft = False, labelbottom = False, bottom = False)\n",
    "fig=plt.gcf()\n",
    "fig.set_size_inches(7,7)\n",
    "\n",
    "fig.savefig(os.path.join(output_folder, 'TOI_'+Target_Star[4:]+'_Visuals.jpeg'), format='jpeg', dpi=600, bbox_inches = 'tight')"
   ]
  },
  {
   "cell_type": "markdown",
   "id": "19ab0d13",
   "metadata": {},
   "source": [
    "# LaTeX Script "
   ]
  },
  {
   "cell_type": "code",
   "execution_count": null,
   "id": "ff2609f6",
   "metadata": {},
   "outputs": [],
   "source": [
    "with open(latexfile, \"w\") as latex:\n",
    "    print(\"\\\\documentclass[12pt, a4paper]{book}\", file = latex)\n",
    "    \n",
    "    print(\"\\\\usepackage{amsmath}\", file = latex)\n",
    "    print(\"\\\\usepackage{geometry}\", file = latex)\n",
    "    print(\"\\\\usepackage{graphicx}\", file = latex)\n",
    "    print(\"\\\\usepackage{xurl}\", file = latex)\n",
    "    print(\"\\\\geometry{paper=a4paper, top=3cm, bottom=3cm, left=2.6cm, right=2.6cm,\", \\\n",
    "           \"headheight=14pt,footskip=1.4cm, headsep=10pt}\", file = latex)\n",
    "    \n",
    "    print(\" \", file = latex)\n",
    "    \n",
    "    print(\"\\\\begin{document}\", file = latex)\n",
    "    \n",
    "    print(\" \", file = latex)\n",
    "    \n",
    "    print(\"\\\\begin{center}\", file = latex)\n",
    "    print(\"{\\\\Huge \\\\textbf{Modelling Transit Light Curve through \\\\texttt{Juliet}}}\\\\\\\\\", file = latex)\n",
    "    print(\"\\\\vspace*{1cm}\", file = latex)\n",
    "    print(\"{\\\\Huge \\\\textbf{\",Target_Star,\"}}\", file = latex)\n",
    "    print(\"\\\\end{center}\", file = latex)\n",
    "    \n",
    "    print(\" \", file = latex)\n",
    "    print(\"\\\\vspace*{0.6cm}\", file = latex)\n",
    "    print(\" \", file = latex)\n",
    "    \n",
    "    print(\"\\\\begin{center}\", file = latex)\n",
    "    print(\"\\\\includegraphics[scale=0.5]{TOI_\"+Target_Star[4:]+\"_Visuals}\", file = latex)\n",
    "    print(\"\\\\end{center}\", file = latex) \n",
    "    \n",
    "    print(\" \", file = latex)\n",
    "    print(\"\\\\vspace*{0.6cm}\", file = latex)\n",
    "    print(\" \", file = latex)\n",
    "    \n",
    "    print(\"\\\\begin{center}\", file = latex)\n",
    "    print(\"\\\\includegraphics[scale=0.6]{TOI_\"+Target_Star[4:]+\"_Transit}\", file = latex)\n",
    "    print(\"\\\\end{center}\", file = latex)\n",
    "    \n",
    "    print(\" \", file = latex)\n",
    "    \n",
    "    print(\"\\\\newpage\", file = latex) \n",
    "    print(\"\\\\begin{center}\", file = latex)\n",
    "    print(\"{\\\\large \\\\textbf{Stellar Parameters}}\", file = latex)\n",
    "    print(\"\\\\end{center}\", file = latex)\n",
    "    print(\"\\\\begin{itemize}\", file = latex)\n",
    "    print(\"\\\\item Magnitude (V) : \", magnitude, \"$\\pm$\", mag_err, file = latex)\n",
    "    print(\"\\\\item Mass of the Star ($M_*$) : \", mass_of_the_host_star_in_solar_masses, \"$\\pm$\", m_err, \"$M_\\odot$\", file = latex)\n",
    "    print(\"\\\\item Radius of the Star ($R_*$) : \", radius_of_the_host_star_in_solar_radius, \"$\\pm$\", r_err, \"$R_\\odot$\", file = latex)\n",
    "    print(\"\\\\item Temperature (T) : \", temperature_of_the_host_star, \"$\\pm$\", t_err, \"K\", file = latex)\n",
    "    print(\"\\\\item Luminosity (L) : \", luminosity, \"$\\pm$\", l_err, \"$L_\\odot$\", file = latex)\n",
    "    print(\"\\\\end{itemize}\", file = latex)\n",
    "\n",
    "    print(\"\\\\vspace*{0.6cm}\", file = latex)\n",
    "    print(\"\\\\begin{center}\", file = latex)\n",
    "    print(\"{\\\\large \\\\textbf{Median values and 68\\\\% confidence interval from \\\\texttt{Juliet}}}\", file = latex)\n",
    "    print(\"\\\\end{center}\", file = latex)\n",
    "    \n",
    "    print(\" \", file = latex)\n",
    "    \n",
    "    print(\"\\\\begin{center}\", file = latex)\n",
    "    print(\"\\\\begin{tabular}{c c c}\", file = latex)\n",
    "\n",
    "    print(\"\\hline\", file = latex)\n",
    "    print(\"\\hline\", file = latex)\n",
    "    \n",
    "    print(\"Parameters &\",\"Description (Unit) &\",\"Values \\\\\\\\\", file = latex)\n",
    "    print(\"\\hline\", file = latex)\n",
    "\n",
    "    print(\" & & \\\\\\\\\", file = latex)\n",
    "    print(\"P &\",\"Period (days) &\",f\"{P/d2s:0.6f}\",\"$^{+\",f\"{Pu/d2s:0.6f}\",\"} _{-\",f\"{Pl/d2s:0.6f}\",\"}$ \\\\\\\\\", file = latex)\n",
    "\n",
    "    print(\" & & \\\\\\\\\", file = latex)\n",
    "    print(\"$R_P$ &\",\"Radius ($R_J$) &\",f\"{Rp/R_J:0.6f}\",\"$^{+\",f\"{Rpu/R_J:0.6f}\",\"} _{-\",f\"{Rpl/R_J:0.6f}\",\"}$ \\\\\\\\\", file = latex)\n",
    "\n",
    "    print(\" & & \\\\\\\\\", file = latex)\n",
    "    print(\"$R_P$ &\",\"Radius ($R_E$) &\",f\"{Rp/R_E:0.6f}\",\"$^{+\",f\"{Rpu/R_E:0.6f}\",\"} _{-\",f\"{Rpl/R_E:0.6f}\",\"}$ \\\\\\\\\", file = latex)\n",
    "\n",
    "    print(\" & & \\\\\\\\\", file = latex)\n",
    "    print(\"$T_C$ &\",\"Epoch Time (BJD) &\",f\"{t0:0.6f}\",\"$^{+\",f\"{t0u:0.6f}\",\"} _{-\",f\"{t0l:0.6f}\",\"}$ \\\\\\\\\", file = latex)\n",
    "\n",
    "    print(\" & & \\\\\\\\\", file = latex)\n",
    "    print(\"$T_d$ &\",\"Transit Duration (days) &\",f\"{Td/(3600*24):0.6f}\",\"$^{+\",f\"{Tdu/(3600*24):0.6f}\", \\\n",
    "          \"} _{-\",f\"{Tdl/(3600*24):0.6f}\",\"}$ \\\\\\\\\", file = latex)\n",
    "    \n",
    "    print(\" & & \\\\\\\\\", file = latex)\n",
    "    print(\"$a$ &\",\"Semi-major Axis (AU) &\",f\"{a/AU:0.6f}\",\"$^{+\",f\"{au/AU:0.6f}\",\"} _{-\",f\"{al/AU:0.6f}\",\"}$ \\\\\\\\\", file = latex)\n",
    "\n",
    "    print(\" & & \\\\\\\\\", file = latex)\n",
    "    print(\"$i$ &\",\"Inclination (Degree) &\",f\"{i*180/PI:0.6f}\",\"$^{+\",f\"{iu*180/PI:0.6f}\",\"} _{-\",f\"{il*180/PI:0.6f}\",\"}$ \\\\\\\\\", file = latex)\n",
    "\n",
    "    print(\" & & \\\\\\\\\", file = latex)\n",
    "    print(\"$e$ &\",\"Eccentricity &\",\"0 (Fixed) \\\\\\\\\", file = latex)\n",
    "\n",
    "    print(\" & & \\\\\\\\\", file = latex)\n",
    "    print(\"$\\omega$ &\",\"Argument of Periastron (Degree) &\",\"90 (Fixed) \\\\\\\\\", file = latex)\n",
    "\n",
    "    print(\" & & \\\\\\\\\", file = latex)\n",
    "    print(\"$T_{eqq}$ &\",\"Equilibrium Temperature (K) &\",f\"{Teq:0.6f}\",\"$^{+\",f\"{Tequ:0.6f}\",\"} _{-\",f\"{Teql:0.6f}\",\"}$ \\\\\\\\\", file = latex)\n",
    "    \n",
    "    print(\" & & \\\\\\\\\", file = latex)\n",
    "    print(\"$S$ &\",\"Insolation ($S_E$) &\",f\"{S:0.6f}\",\"$^{+\",f\"{Su:0.6f}\",\"} _{-\",f\"{Sl:0.6f}\",\"}$ \\\\\\\\\", file = latex)\n",
    "\n",
    "    print(\" & & \\\\\\\\\", file = latex)\n",
    "    print(\"$R_P/R_S$ &\",\"Radius of planet in stellar radii &\",f\"{rprs:0.6f}\",\"$^{+\",f\"{rprsu:0.6f}\", \\\n",
    "          \"} _{-\",f\"{rprsl:0.6f}\",\"}$ \\\\\\\\\", file = latex)\n",
    "\n",
    "    print(\" & & \\\\\\\\\", file = latex)\n",
    "    print(\"$a/R_S$ &\",\"Semi-major axis in stellar radii &\",f\"{ars:0.6f}\",\"$^{+\",f\"{arsu:0.6f}\",\"} _{-\",f\"{arsl:0.6f}\",\"}$ \\\\\\\\\", file = latex)\n",
    "\n",
    "    print(\" & & \\\\\\\\\", file = latex)\n",
    "    print(\"$\\delta$ &\",\"Transit Depth (Fraction) &\",f\"{delta:0.6f}\",\"$^{+\",f\"{deltau:0.6f}\",\"} _{-\",f\"{deltal:0.6f}\",\"}$ \\\\\\\\\", file = latex)\n",
    "\n",
    "    print(\" & & \\\\\\\\\", file = latex)\n",
    "    print(\"$b$ &\",\"Impact Parameter &\",f\"{b:0.6f}\",\"$^{+\",f\"{bu:0.6f}\",\"} _{-\",f\"{bl:0.6f}\",\"}$ \\\\\\\\\", file = latex)\n",
    "\n",
    "    print(\" & & \\\\\\\\\", file = latex)\n",
    "    print(\"$u_1$ &\",\"Limb Darkening Parameter &\",f\"{u1m:0.6f}\",\"$^{+\",f\"{u1u - u1m:0.6f}\",\"} _{-\",f\"{u1m - u1l:0.6f}\",\"}$ \\\\\\\\\", file = latex)\n",
    "\n",
    "    print(\" & & \\\\\\\\\", file = latex)\n",
    "    print(\"$u_2$ &\",\"Limb Darkening Parameter &\",f\"{u2m:0.6f}\",\"$^{+\",f\"{u2u - u2m:0.6f}\",\"} _{-\",f\"{u2m - u2l:0.6f}\",\"}$ \\\\\\\\\", file = latex)\n",
    "\n",
    "    print(\"\\\\end{tabular}\", file = latex)\n",
    "    print(\"\\\\end{center}\", file = latex)\n",
    "    \n",
    "    print(\" \", file = latex)\n",
    "    print(\"\\\\end{document}\", file = latex)\n",
    "\n",
    "\n",
    "# Run the LaTeX File\n",
    "texfile = \"Latex_TOI_\"+Target_Star[4:]+\".tex\"\n",
    "os.chdir(r'TOI_'+Target_Star[4:]+'_Global_Fit')\n",
    "print(os.getcwd())\n",
    "os.system(\"pdflatex %s\" %texfile)\n",
    "print(\"Saved the PDF\")\n",
    "os.chdir('..')\n",
    "print(os.getcwd())"
   ]
  }
 ],
 "metadata": {
  "kernelspec": {
   "display_name": "Python 3",
   "language": "python",
   "name": "python3"
  },
  "language_info": {
   "codemirror_mode": {
    "name": "ipython",
    "version": 3
   },
   "file_extension": ".py",
   "mimetype": "text/x-python",
   "name": "python",
   "nbconvert_exporter": "python",
   "pygments_lexer": "ipython3",
   "version": "3.8.8"
  }
 },
 "nbformat": 4,
 "nbformat_minor": 5
}
