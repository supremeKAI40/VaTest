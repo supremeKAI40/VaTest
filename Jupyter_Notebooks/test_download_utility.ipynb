{
 "cells": [
  {
   "cell_type": "markdown",
   "id": "a4a7e16e",
   "metadata": {},
   "source": [
    "### Download script needed for:\n",
    "All Targets List.txt,\n",
    "Sector download codes.txt,\n",
    "tess momentum dumps.txt"
   ]
  },
  {
   "cell_type": "code",
   "execution_count": 130,
   "id": "f55899b3",
   "metadata": {},
   "outputs": [],
   "source": [
    "import os\n",
    "import shutil\n",
    "import requests\n",
    "import numpy as np\n",
    "import pandas as pd"
   ]
  },
  {
   "cell_type": "code",
   "execution_count": 128,
   "id": "815c3bb3",
   "metadata": {},
   "outputs": [],
   "source": [
    "def tp_files(indir):\n",
    "    '''\n",
    "    Function to download all of the TIC list and RA/Dec data that we want to the local computer.\n",
    "    These are needed for the nearest neighbour analysis.\n",
    "    Parameters\n",
    "    ----------\n",
    "    indir   :   str\n",
    "        path to where the data will be saved (default = \"\")\n",
    "    '''\n",
    "    #create the folder where nearest neighbour analysis file will look for data\n",
    "    if not os.path.exists(\"{}/data\".format(indir)):\n",
    "        os.mkdir(\"{}/data\".format(indir))\n",
    "        \n",
    "    if not os.path.exists(\"{}/data/all_targets_list.txt\".format(indir)):\n",
    "        \n",
    "        empty_dataframe = pd.DataFrame(columns=['TICID', 'Camera', 'CCD', 'Tmag', 'RA', 'Dec', 'sec'])\n",
    "\n",
    "        empty_dataframe.to_csv(\"{}/data/all_targets_list.txt\".format(indir), index=False)\n",
    "\n",
    "        first_sec = 0 # start with sector 1 but this has to be 0 because the next step of the code adds one (needs to be like this otherwise it will dowload the last sector multiple times when re run)\n",
    "        print (\"We also need to have a record of all of the TIC ID available in each Sectors \\nStarting with Sector 1\")\n",
    "\n",
    "    else:\n",
    "        all_sectors_file = pd.read_csv(\"{}/data/all_targets_list.txt\".format(indir), delimiter = ',')\n",
    "        exist = all_sectors_file['sec'].max()\n",
    "        first_sec = (np.max(exist))\n",
    "        \n",
    "    for sec in range(first_sec+1,500):  # max sector is varying for tess\n",
    "\n",
    "        if sec < 10:\n",
    "            download_sector = \"00{}\".format(sec)\n",
    "        else:\n",
    "            download_sector = \"0{}\".format(sec)\n",
    "\n",
    "        target_list = \"https://tess.mit.edu/wp-content/uploads/all_targets_S{}_v1.txt\".format(download_sector)\n",
    "\n",
    "        r_target_list = requests.get(target_list) # create HTTP response object\n",
    "\n",
    "        if r_target_list.status_code == 404:\n",
    "            print (\"Target lists only available up to Sector {} -- try downloading more data later\".format(sec))\n",
    "            break\n",
    "        \n",
    "        with open(\"{}/data/all_targets_S{}_v1.txt\".format(indir, download_sector), 'wb') as f:\n",
    "            f.write(r_target_list.content)\n",
    "\n",
    "        #save the response as csv add sector as column and then add to all target file\n",
    "        this_sector_file = pd.read_csv(\"{}/data/all_targets_S{}_v1.txt\".format(indir, download_sector), comment = '#', delimiter = '\\t', names = ['TICID', 'Camera', 'CCD', 'Tmag', 'RA', 'Dec'])\n",
    "        this_sector_file['sec'] = sec\n",
    "        this_sector_file.to_csv(\"{}/data/all_targets_S{}_v1.txt\".format(indir, download_sector), index=False)\n",
    "\n",
    "        # also open the latest version of the 'all' file so that we can add the new part to it... again not the best way\n",
    "        all_sectors_file = pd.read_csv(\"{}/data/all_targets_list.txt\".format(indir, download_sector), comment = '#', delimiter = ',')\n",
    "\n",
    "        # merge the dataframes\n",
    "        full_data_frame_allsectors = pd.concat([all_sectors_file, this_sector_file])\n",
    "\n",
    "        # save it again\n",
    "        full_data_frame_allsectors.to_csv(\"{}/data/all_targets_list.txt\".format(indir, download_sector), index=False)\n",
    "        \n",
    "        print(\"Finished adding target list text file for sector {}\".format(sec))\n",
    "        if os.path.exists(\"{}/data/all_targets_S{}_v1.txt\".format(indir, download_sector)):\n",
    "            os.remove(\"{}/data/all_targets_S{}_v1.txt\".format(indir, download_sector))        \n",
    "         \n",
    "        ##Adding sector download codes\n",
    "        LC_url = \"https://archive.stsci.edu/missions/tess/download_scripts/sector/tesscurl_sector_{}_lc.sh\".format(sec)\n",
    "        r_LC = requests.get(LC_url) # create HTTP response object\n",
    "\n",
    "        if r_LC.status_code == 404:\n",
    "            print (\"You're all caught up with your codes up to Sector {} -- try downloading more data later\".format(sec-1))\n",
    "            break\n",
    "\n",
    "\n",
    "        with open(\"{}/data/sector_download_codes.txt\".format(indir), 'a') as f:\n",
    "                \n",
    "                #open the first line of the file in order to get the codes that are requred to download data from that sector\n",
    "                \n",
    "                code1 = (str(r_LC.content[0:200]).split('-')[4][6:])\n",
    "                code2 = (str(r_LC.content[0:200]).split('-')[7])\n",
    "\n",
    "                string = \"{} {} {}\\n\".format(str(sec), code1, code2 )\n",
    "\n",
    "                # write the contents of the response (r.content)\n",
    "                # to a new file in binary mode.\n",
    "\n",
    "                f.write(string)\n",
    "                print(\"Finished adding sector codes for sector {}\".format(sec))"
   ]
  },
  {
   "cell_type": "code",
   "execution_count": 129,
   "id": "5f26e7b9",
   "metadata": {},
   "outputs": [
    {
     "name": "stdout",
     "output_type": "stream",
     "text": [
      "We also need to have a record of all of the TIC ID available in each Sectors \n",
      " Starting with Sector 1\n",
      "Finished adding target list text file for sector 1\n",
      "Finished adding sector codes for sector 1\n"
     ]
    }
   ],
   "source": [
    "indir=\"C:/Personal/Internships/ExoplanetStatisticalValidation/lattetest/test_automation/data_test2\"\n",
    "tp_files(indir)"
   ]
  }
 ],
 "metadata": {
  "kernelspec": {
   "display_name": "Python 3 (ipykernel)",
   "language": "python",
   "name": "python3"
  },
  "language_info": {
   "codemirror_mode": {
    "name": "ipython",
    "version": 3
   },
   "file_extension": ".py",
   "mimetype": "text/x-python",
   "name": "python",
   "nbconvert_exporter": "python",
   "pygments_lexer": "ipython3",
   "version": "3.10.4"
  }
 },
 "nbformat": 4,
 "nbformat_minor": 5
}
